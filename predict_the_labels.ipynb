{
  "nbformat": 4,
  "nbformat_minor": 0,
  "metadata": {
    "colab": {
      "name": "predict_the_labels.ipynb",
      "version": "0.3.2",
      "provenance": [],
      "collapsed_sections": []
    },
    "kernelspec": {
      "name": "python3",
      "display_name": "Python 3"
    }
  },
  "cells": [
    {
      "cell_type": "markdown",
      "metadata": {
        "colab_type": "text",
        "id": "Xf4qR2YlGZ_6"
      },
      "source": [
        "# Code to predict the output\n",
        "\n",
        "mount the drive and unzip archive to retrive test folder\n"
      ]
    },
    {
      "cell_type": "code",
      "metadata": {
        "id": "T8p9HvuHwsuG",
        "colab_type": "code",
        "outputId": "b37f14a7-a798-40e9-babe-a0faf0b74d11",
        "colab": {
          "base_uri": "https://localhost:8080/",
          "height": 34
        }
      },
      "source": [
        "from google.colab import drive\n",
        "drive.mount('/content/drive')"
      ],
      "execution_count": 0,
      "outputs": [
        {
          "output_type": "stream",
          "text": [
            "Drive already mounted at /content/drive; to attempt to forcibly remount, call drive.mount(\"/content/drive\", force_remount=True).\n"
          ],
          "name": "stdout"
        }
      ]
    },
    {
      "cell_type": "code",
      "metadata": {
        "id": "QAsZeXTaxFId",
        "colab_type": "code",
        "outputId": "ebdb9d9b-d4ac-4c23-8842-16f339e08bda",
        "colab": {
          "base_uri": "https://localhost:8080/",
          "height": 50
        }
      },
      "source": [
        "!unzip '/content/drive/My Drive/Assignment.zip'"
      ],
      "execution_count": 0,
      "outputs": [
        {
          "output_type": "stream",
          "text": [
            "Archive:  /content/drive/My Drive/Assignment.zip\n",
            "replace Assignment/.DS_Store? [y]es, [n]o, [A]ll, [N]one, [r]ename: "
          ],
          "name": "stdout"
        }
      ]
    },
    {
      "cell_type": "code",
      "metadata": {
        "id": "BvZVH17Uvqa8",
        "colab_type": "code",
        "colab": {}
      },
      "source": [
        "from keras.models import load_model\n",
        "from keras.preprocessing import image\n",
        "import numpy as np\n",
        "import os\n",
        "from keras import backend as K\n",
        "from keras import optimizers\n",
        "import h5py\n",
        "import pandas as pd"
      ],
      "execution_count": 0,
      "outputs": []
    },
    {
      "cell_type": "code",
      "metadata": {
        "id": "Ndca4PMewnK_",
        "colab_type": "code",
        "colab": {}
      },
      "source": [
        "# image folder\n",
        "folder_path = '/content/Assignment/Input/Dataset/test'\n",
        "# path to model\n",
        "model_path = '/content/drive/My Drive/category_model.h5'\n",
        "# dimensions of images for model trained, please replace with new model as you see fit\n",
        "img_width, img_height = 150, 150"
      ],
      "execution_count": 0,
      "outputs": []
    },
    {
      "cell_type": "markdown",
      "metadata": {
        "id": "2YWnj5RjG6Lu",
        "colab_type": "text"
      },
      "source": [
        "# Helper Function\n",
        "define the helper functions that were used to assess model"
      ]
    },
    {
      "cell_type": "code",
      "metadata": {
        "id": "HYy1j_8XwncJ",
        "colab_type": "code",
        "colab": {}
      },
      "source": [
        "def f1(y_true, y_pred):\n",
        "    def recall(y_true, y_pred):\n",
        "        \"\"\"Recall metric.\n",
        "\n",
        "        Only computes a batch-wise average of recall.\n",
        "\n",
        "        Computes the recall, a metric for multi-label classification of\n",
        "        how many relevant items are selected.\n",
        "        \"\"\"\n",
        "        true_positives = K.sum(K.round(K.clip(y_true * y_pred, 0, 1)))\n",
        "        possible_positives = K.sum(K.round(K.clip(y_true, 0, 1)))\n",
        "        recall = true_positives / (possible_positives + K.epsilon())\n",
        "        return recall\n",
        "\n",
        "    def precision(y_true, y_pred):\n",
        "        \"\"\"Precision metric.\n",
        "\n",
        "        Only computes a batch-wise average of precision.\n",
        "\n",
        "        Computes the precision, a metric for multi-label classification of\n",
        "        how many selected items are relevant.\n",
        "        \"\"\"\n",
        "        true_positives = K.sum(K.round(K.clip(y_true * y_pred, 0, 1)))\n",
        "        predicted_positives = K.sum(K.round(K.clip(y_pred, 0, 1)))\n",
        "        precision = true_positives / (predicted_positives + K.epsilon())\n",
        "        return precision\n",
        "    precision = precision(y_true, y_pred)\n",
        "    recall = recall(y_true, y_pred)\n",
        "    return 2*((precision*recall)/(precision+recall+K.epsilon()))"
      ],
      "execution_count": 0,
      "outputs": []
    },
    {
      "cell_type": "code",
      "metadata": {
        "id": "YZQfKeDgxtlG",
        "colab_type": "code",
        "colab": {}
      },
      "source": [
        "def mcor(y_true, y_pred):\n",
        "     #matthews_correlation\n",
        "     y_pred_pos = K.round(K.clip(y_pred, 0, 1))\n",
        "     y_pred_neg = 1 - y_pred_pos\n",
        " \n",
        " \n",
        "     y_pos = K.round(K.clip(y_true, 0, 1))\n",
        "     y_neg = 1 - y_pos\n",
        " \n",
        " \n",
        "     tp = K.sum(y_pos * y_pred_pos)\n",
        "     tn = K.sum(y_neg * y_pred_neg)\n",
        " \n",
        " \n",
        "     fp = K.sum(y_neg * y_pred_pos)\n",
        "     fn = K.sum(y_pos * y_pred_neg)\n",
        " \n",
        " \n",
        "     numerator = (tp * tn - fp * fn)\n",
        "     denominator = K.sqrt((tp + fp) * (tp + fn) * (tn + fp) * (tn + fn))\n",
        " \n",
        " \n",
        "     return numerator / (denominator + K.epsilon())"
      ],
      "execution_count": 0,
      "outputs": []
    },
    {
      "cell_type": "code",
      "metadata": {
        "id": "Ex99m5XIwnUx",
        "colab_type": "code",
        "colab": {}
      },
      "source": [
        "# load the trained model\n",
        "model = load_model(model_path,custom_objects={\"f1\": f1,\"mcor\":mcor})\n",
        "model.compile(loss='categorical_crossentropy',\n",
        "          optimizer=optimizers.Adamax(lr=1e-4),\n",
        "          metrics=['accuracy',f1,mcor])\n"
      ],
      "execution_count": 0,
      "outputs": []
    },
    {
      "cell_type": "code",
      "metadata": {
        "id": "Q7COwgAZx2Mh",
        "colab_type": "code",
        "outputId": "e58e2823-fd60-4059-f1bb-edc00d0decc8",
        "colab": {
          "base_uri": "https://localhost:8080/",
          "height": 50
        }
      },
      "source": [
        "# load all images into a list\n",
        "images = []\n",
        "for img in os.listdir(folder_path):\n",
        "  \n",
        "  if img==\".DS_Store\":\n",
        "    continue\n",
        "  img = image.load_img(folder_path+\"/\"+img, target_size=(img_width, img_height),grayscale=True)\n",
        "  img = image.img_to_array(img)\n",
        "  img = np.expand_dims(img, axis=0)\n",
        "  images.append(img)\n",
        "\n",
        "\n"
      ],
      "execution_count": 0,
      "outputs": [
        {
          "output_type": "stream",
          "text": [
            "/usr/local/lib/python3.6/dist-packages/keras_preprocessing/image/utils.py:104: UserWarning: grayscale is deprecated. Please use color_mode = \"grayscale\"\n",
            "  warnings.warn('grayscale is deprecated. Please use '\n"
          ],
          "name": "stderr"
        }
      ]
    },
    {
      "cell_type": "code",
      "metadata": {
        "colab_type": "code",
        "id": "6nM0m_2mGWmv",
        "colab": {}
      },
      "source": [
        "# stack up images list to pass for prediction\n",
        "images = np.vstack(images)\n",
        "classes = model.predict_classes(images, batch_size=10)"
      ],
      "execution_count": 0,
      "outputs": []
    },
    {
      "cell_type": "code",
      "metadata": {
        "colab_type": "code",
        "outputId": "20e90903-cbf0-4228-a25c-28079cbf791d",
        "id": "yDZ2LFATGW8G",
        "colab": {
          "base_uri": "https://localhost:8080/",
          "height": 521
        }
      },
      "source": [
        "## print classes\n",
        "'''\n",
        "0: category 1\n",
        "1: category 2\n",
        "2: category 3\n",
        "3: category 4\n",
        "results are stored in drive in results.csv along with labels\n",
        "predictions are directly converted to csv after appropriate and convenient\n",
        "naming\n",
        "'''\n",
        "i=0\n",
        "for img in os.listdir(folder_path):\n",
        "  \n",
        "  if img==\".DS_Store\":\n",
        "    continue\n",
        "  print(img,\" , \",classes[i])\n",
        "  i=i+1"
      ],
      "execution_count": 0,
      "outputs": [
        {
          "output_type": "stream",
          "text": [
            "Test_original_6053.png_62171105-bdaa-4eb5-b5e7-9b0fb7914715.png  ,  1\n",
            "Test_original_6053.png_c34c8352-0830-4853-81ce-3ea5ecf82313.png  ,  1\n",
            "Test_original_1052.png_22a82512-5b1f-4072-a4af-9a8af40653f0.png  ,  0\n",
            "6052.png  ,  1\n",
            "C053.png  ,  3\n",
            "6053.png  ,  1\n",
            "Test_original_6053.png_16f2063e-9590-4ae5-b7f9-7f23c8cfa654.png  ,  1\n",
            "Test_original_C053.png_e7d20702-793e-4207-b174-a8042c05ac3d.png  ,  3\n",
            "Test_original_4052.png_31cd9a66-9edc-4445-b4bc-9b0239b342e0.png  ,  2\n",
            "4043.png  ,  2\n",
            "Test_original_6052.png_51c87ecf-ede6-4152-960f-4d56ff913d53.png  ,  1\n",
            "1051.png  ,  0\n",
            "Test_original_1051.png_271f7fb1-f0ab-4ca7-9dae-a352fd0ed8b9.png  ,  0\n",
            "4052.png  ,  2\n",
            "4050.png  ,  2\n",
            "Test_original_C053.png_84d8e7c9-490f-4579-b9a9-501a8ca02cfe.png  ,  3\n",
            "Test_original_4043.png_fffcbc29-3aff-40c0-bdf9-2c12fa6df60b.png  ,  2\n",
            "Test_original_1052.png_b95bc311-bae0-48a7-8b9f-d0eddf1ddf2b.png  ,  0\n",
            "4051.png  ,  2\n",
            "Test_original_6052.png_9950e35a-38c7-4388-b391-ce50bb8ea1a7.png  ,  1\n",
            "Test_original_4052.png_78b7cca7-2a16-4f3c-829d-e4937b5f2dc2.png  ,  2\n",
            "Test_original_6052.png_25bb57e2-b542-47c3-9abb-a1f7c7179ee6.png  ,  1\n",
            "Test_original_4051.png_b90a2ba4-87c6-41e6-ad67-0e0d2e83478c.png  ,  2\n",
            "C052.png  ,  3\n",
            "Test_original_C052.png_5c226e55-09ba-4fd0-bf6b-e0d2b411baa3.png  ,  3\n",
            "1052.png  ,  0\n",
            "Test_original_6053.png_445dbbe1-4b09-4d56-aede-ab1695664ead.png  ,  1\n",
            "Test_original_4052.png_a2ba34f8-9e8b-4b2d-ad89-612c261a9654.png  ,  2\n",
            "Test_original_4043.png_615f9058-5c5c-4430-9f11-debd66f8a19a.png  ,  2\n",
            "Test_original_4052.png_209d62b3-92ce-4e4d-8006-cf63a40088a4.png  ,  2\n"
          ],
          "name": "stdout"
        }
      ]
    }
  ]
}